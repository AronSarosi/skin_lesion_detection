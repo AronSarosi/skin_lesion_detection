{
 "cells": [
  {
   "cell_type": "code",
   "execution_count": 1,
   "metadata": {},
   "outputs": [],
   "source": [
    "import sklearn.base"
   ]
  },
  {
   "cell_type": "code",
   "execution_count": 2,
   "metadata": {},
   "outputs": [],
   "source": [
    "%matplotlib inline\n",
    "import matplotlib.pyplot as plt\n",
    "import numpy as np\n",
    "import pandas as pd\n",
    "import os\n",
    "from glob import glob\n",
    "import seaborn as sns\n",
    "from PIL import Image\n",
    "import matplotlib.pyplot as plt\n",
    "from sklearn.svm import LinearSVC\n",
    "import numpy as np\n",
    "from collections import Counter\n",
    "from sklearn.datasets import make_classification\n",
    "from sklearn import neighbors\n",
    "from sklearn.neighbors import kneighbors_graph"
   ]
  },
  {
   "cell_type": "code",
   "execution_count": 3,
   "metadata": {},
   "outputs": [],
   "source": [
    "file = '/Users/cameronsellers/code/cecyprice/skin_lesion_detection/dataset/hmnist_8_8_RGB.csv'\n",
    "test_images = pd.read_csv(file, ',')"
   ]
  },
  {
   "cell_type": "code",
   "execution_count": null,
   "metadata": {},
   "outputs": [],
   "source": [
    "## Replace age values with mean \n",
    "\n",
    "meta_data.isnull().sum()\n",
    "meta_data['age'].fillna((meta_data['age'].mean()), inplace = True)\n",
    "\n",
    "## plot cell types \n"
   ]
  },
  {
   "cell_type": "code",
   "execution_count": null,
   "metadata": {},
   "outputs": [],
   "source": [
    "data.shape[0]"
   ]
  },
  {
   "cell_type": "markdown",
   "metadata": {},
   "source": [
    "# Data Augmentation"
   ]
  },
  {
   "cell_type": "code",
   "execution_count": 4,
   "metadata": {},
   "outputs": [],
   "source": [
    "from tensorflow.keras.preprocessing.image import ImageDataGenerator"
   ]
  },
  {
   "cell_type": "code",
   "execution_count": 5,
   "metadata": {},
   "outputs": [],
   "source": [
    "test_images = test_images.to_numpy()"
   ]
  },
  {
   "cell_type": "code",
   "execution_count": 6,
   "metadata": {},
   "outputs": [],
   "source": [
    "test_images = test_images[:, :-1]"
   ]
  },
  {
   "cell_type": "code",
   "execution_count": 7,
   "metadata": {},
   "outputs": [
    {
     "data": {
      "text/plain": [
       "array([[199, 156, 188, ..., 184, 143, 167],\n",
       "       [115,  87, 115, ...,  74,  51,  60],\n",
       "       [203, 146, 164, ..., 177, 138, 158],\n",
       "       ...,\n",
       "       [178, 160, 165, ..., 197, 177, 172],\n",
       "       [166, 124, 142, ..., 186, 159, 169],\n",
       "       [178, 145, 124, ..., 163, 105,  91]])"
      ]
     },
     "execution_count": 7,
     "metadata": {},
     "output_type": "execute_result"
    }
   ],
   "source": [
    "test_images"
   ]
  },
  {
   "cell_type": "code",
   "execution_count": 8,
   "metadata": {},
   "outputs": [],
   "source": [
    "test_images = test_images.reshape((10015, 8,8,3))"
   ]
  },
  {
   "cell_type": "code",
   "execution_count": 9,
   "metadata": {},
   "outputs": [
    {
     "data": {
      "text/plain": [
       "(10015, 8, 8, 3)"
      ]
     },
     "execution_count": 9,
     "metadata": {},
     "output_type": "execute_result"
    }
   ],
   "source": [
    "test_images.shape"
   ]
  },
  {
   "cell_type": "code",
   "execution_count": 16,
   "metadata": {},
   "outputs": [],
   "source": [
    "def data_augmentation(df):\n",
    "    output = 'dataset/test_save'\n",
    "\n",
    "    ## Define random image modifications\n",
    "    aug = ImageDataGenerator(\n",
    "    rotation_range=30,\n",
    "    zoom_range=0.15,\n",
    "    width_shift_range=0.2,\n",
    "    height_shift_range=0.2,\n",
    "    shear_range=0.15,\n",
    "    horizontal_flip=True,\n",
    "    fill_mode=\"nearest\")\n",
    "   \n",
    "    #construct the actual Python generator\n",
    "    dataGen = aug.flow(df, \n",
    "                       batch_size = df.shape[0])\n",
    "#                        save_to_dir = output)\n",
    "    \n",
    "    # iterate over imagegenerator object, add to test_images dataset \n",
    "    for i in dataGen:\n",
    "        break \n",
    "    \n",
    "    df = np.concatenate((df, i), axis = 0)\n",
    "    \n",
    "    return df"
   ]
  },
  {
   "cell_type": "code",
   "execution_count": 17,
   "metadata": {},
   "outputs": [],
   "source": [
    "test_cat = data_augmentation(test_images)"
   ]
  },
  {
   "cell_type": "code",
   "execution_count": 18,
   "metadata": {},
   "outputs": [
    {
     "data": {
      "text/plain": [
       "(20030, 8, 8, 3)"
      ]
     },
     "execution_count": 18,
     "metadata": {},
     "output_type": "execute_result"
    }
   ],
   "source": [
    "test_cat.shape"
   ]
  },
  {
   "cell_type": "markdown",
   "metadata": {},
   "source": [
    "## Functions for label encoding and onehotencoding "
   ]
  },
  {
   "cell_type": "code",
   "execution_count": null,
   "metadata": {},
   "outputs": [],
   "source": [
    "from sklearn.preprocessing import LabelEncoder, OneHotEncoder\n",
    "import numpy as np\n",
    "\n",
    "def sex_encoder():\n",
    "    le = LabelEncoder()\n",
    "    data['sex_encoded'] = le.fit_transform(data['sex'])\n",
    "    return data\n",
    "\n",
    "def ohe_feature_encoding(): \n",
    "    ohe = OneHotEncoder(sparse = False)\n",
    "    feature_oh = ohe.fit_transform(data[['dx']])\n",
    "    data['bkl'], data['nv'], data['df'], data['mel'], data['vasc'], data['bcc'], data['akiec'] = feature_oh.T\n",
    "    return data \n",
    "\n",
    "def general_feature_encoding(v): \n",
    "    ohe = OneHotEncoder(sparse = False)\n",
    "    feature_oh = ohe.fit_transform(data[[v]])\n",
    "    list = data[v].unique().tolist()\n",
    "    for l in list:\n",
    "        count = 0\n",
    "        while count <= len(list):\n",
    "            data['l'] = feature_oh[:,(count-1)]\n",
    "            count += 1\n",
    "    return data "
   ]
  },
  {
   "cell_type": "markdown",
   "metadata": {},
   "source": [
    "### Encoding features "
   ]
  },
  {
   "cell_type": "code",
   "execution_count": null,
   "metadata": {},
   "outputs": [],
   "source": [
    "data = ohe_feature_encoding()"
   ]
  },
  {
   "cell_type": "code",
   "execution_count": null,
   "metadata": {},
   "outputs": [],
   "source": [
    "data.head()"
   ]
  },
  {
   "cell_type": "markdown",
   "metadata": {},
   "source": [
    "## Balancing Dataset "
   ]
  },
  {
   "cell_type": "code",
   "execution_count": null,
   "metadata": {},
   "outputs": [],
   "source": [
    "sns.countplot(data['dx'])\n",
    "\n",
    "## 1 Augment low count categories (must augment all columns)\n",
    "## 2 Then scale back nv "
   ]
  },
  {
   "cell_type": "code",
   "execution_count": null,
   "metadata": {},
   "outputs": [],
   "source": [
    "data[data['dx'] == 'nv']['localization'].value_counts(normalize = True)\n",
    "## must preserve ratio if scaling down. \n",
    "## try this way, if strange then maybe balance. "
   ]
  },
  {
   "cell_type": "code",
   "execution_count": null,
   "metadata": {},
   "outputs": [],
   "source": [
    "imblearn.under_sampling.RandomUnderSampler(sampling_strategy='auto',\n",
    "                                           return_indices=False,\n",
    "                                           random_state=None,\n",
    "                                           replacement=False,\n",
    "                                           ratio=None)[source]"
   ]
  },
  {
   "cell_type": "code",
   "execution_count": null,
   "metadata": {},
   "outputs": [],
   "source": [
    "heatcol = meta_data[['dx', 'dx_type', 'sex', 'localization']]"
   ]
  },
  {
   "cell_type": "code",
   "execution_count": null,
   "metadata": {},
   "outputs": [],
   "source": [
    "meta_data[meta_data['dx'] == 'nv']['localization'].value_counts(normalize = True)"
   ]
  },
  {
   "cell_type": "markdown",
   "metadata": {},
   "source": [
    "**Balance by sex insights**\n",
    "\n",
    "Sex ratios (M/F) \n",
    "- NV (51:48) \n",
    "- BKL (61:38) \n",
    "- MEL (61:38) \n"
   ]
  },
  {
   "cell_type": "code",
   "execution_count": null,
   "metadata": {},
   "outputs": [],
   "source": [
    "meta_data[meta_data['dx'] == 'nv']['sex'].value_counts(normalize = True)\n",
    "## generally balanced by sex "
   ]
  },
  {
   "cell_type": "code",
   "execution_count": null,
   "metadata": {},
   "outputs": [],
   "source": [
    "meta_data[meta_data['dx'] == 'bkl']['sex'].value_counts(normalize = True)"
   ]
  },
  {
   "cell_type": "code",
   "execution_count": null,
   "metadata": {},
   "outputs": [],
   "source": [
    "meta_data[meta_data['dx'] == 'mel']['sex'].value_counts(normalize = True)"
   ]
  },
  {
   "cell_type": "code",
   "execution_count": null,
   "metadata": {},
   "outputs": [],
   "source": [
    "meta_data[meta_data['dx'] == 'bcc']['sex'].value_counts(normalize = True)"
   ]
  }
 ],
 "metadata": {
  "kernelspec": {
   "display_name": "Python 3",
   "language": "python",
   "name": "python3"
  },
  "language_info": {
   "codemirror_mode": {
    "name": "ipython",
    "version": 3
   },
   "file_extension": ".py",
   "mimetype": "text/x-python",
   "name": "python",
   "nbconvert_exporter": "python",
   "pygments_lexer": "ipython3",
   "version": "3.7.7"
  }
 },
 "nbformat": 4,
 "nbformat_minor": 4
}
