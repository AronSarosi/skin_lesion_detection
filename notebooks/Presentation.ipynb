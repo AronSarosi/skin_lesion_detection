{
 "cells": [
  {
   "cell_type": "code",
   "execution_count": 1,
   "metadata": {
    "slideshow": {
     "slide_type": "skip"
    }
   },
   "outputs": [],
   "source": [
    "%matplotlib inline\n",
    "import matplotlib.pyplot as plt\n",
    "import numpy as np\n",
    "import pandas as pd\n",
    "import os\n",
    "from glob import glob\n",
    "import seaborn as sns\n",
    "from PIL import Image\n",
    "import matplotlib.pyplot as plt\n",
    "from sklearn.svm import LinearSVC\n",
    "import numpy as np\n",
    "from collections import Counter\n",
    "from sklearn.datasets import make_classification\n",
    "from sklearn import neighbors\n",
    "from sklearn.neighbors import kneighbors_graph\n",
    "from imblearn.under_sampling import RandomUnderSampler\n",
    "from IPython.display import Image\n",
    "import ipyplot"
   ]
  },
  {
   "cell_type": "markdown",
   "metadata": {
    "slideshow": {
     "slide_type": "slide"
    }
   },
   "source": [
    "# Team 2 - Skin Lesion Detections\n",
    "---"
   ]
  },
  {
   "cell_type": "markdown",
   "metadata": {
    "slideshow": {
     "slide_type": "fragment"
    }
   },
   "source": [
    "### Dataset Overview \n",
    "\n",
    "The **HAM10000** (\"Human Against Machine with 10000 training images\") dataset is composed of: \n",
    "\n",
    "- 10015 images of labelled skin lesions\n",
    "- Accompanying meta-data. "
   ]
  },
  {
   "cell_type": "code",
   "execution_count": 2,
   "metadata": {
    "slideshow": {
     "slide_type": "fragment"
    }
   },
   "outputs": [
    {
     "ename": "NameError",
     "evalue": "name 'imagepath' is not defined",
     "output_type": "error",
     "traceback": [
      "\u001b[0;31m---------------------------------------------------------------------------\u001b[0m",
      "\u001b[0;31mNameError\u001b[0m                                 Traceback (most recent call last)",
      "\u001b[0;32m<ipython-input-2-104a9ca6d266>\u001b[0m in \u001b[0;36m<module>\u001b[0;34m\u001b[0m\n\u001b[1;32m      1\u001b[0m \u001b[0;32mfrom\u001b[0m \u001b[0mIPython\u001b[0m\u001b[0;34m.\u001b[0m\u001b[0mdisplay\u001b[0m \u001b[0;32mimport\u001b[0m \u001b[0mImage\u001b[0m\u001b[0;34m,\u001b[0m \u001b[0mdisplay\u001b[0m\u001b[0;34m\u001b[0m\u001b[0;34m\u001b[0m\u001b[0m\n\u001b[0;32m----> 2\u001b[0;31m ims = ['{}/ISIC_0024306.jpg'.format(imagepath), \n\u001b[0m\u001b[1;32m      3\u001b[0m        \u001b[0;34m'{}/ISIC_0024307.jpg'\u001b[0m\u001b[0;34m.\u001b[0m\u001b[0mformat\u001b[0m\u001b[0;34m(\u001b[0m\u001b[0mimagepath\u001b[0m\u001b[0;34m)\u001b[0m\u001b[0;34m,\u001b[0m\u001b[0;34m\u001b[0m\u001b[0;34m\u001b[0m\u001b[0m\n\u001b[1;32m      4\u001b[0m        \u001b[0;34m'{}/ISIC_0024308.jpg'\u001b[0m\u001b[0;34m.\u001b[0m\u001b[0mformat\u001b[0m\u001b[0;34m(\u001b[0m\u001b[0mimagepath\u001b[0m\u001b[0;34m)\u001b[0m\u001b[0;34m,\u001b[0m\u001b[0;34m\u001b[0m\u001b[0;34m\u001b[0m\u001b[0m\n\u001b[1;32m      5\u001b[0m        \u001b[0;34m'{}/ISIC_0024309.jpg'\u001b[0m\u001b[0;34m.\u001b[0m\u001b[0mformat\u001b[0m\u001b[0;34m(\u001b[0m\u001b[0mimagepath\u001b[0m\u001b[0;34m)\u001b[0m\u001b[0;34m,\u001b[0m\u001b[0;34m\u001b[0m\u001b[0;34m\u001b[0m\u001b[0m\n",
      "\u001b[0;31mNameError\u001b[0m: name 'imagepath' is not defined"
     ]
    }
   ],
   "source": [
    "from IPython.display import Image, display\n",
    "ims = ['{}/ISIC_0024306.jpg'.format(imagepath), \n",
    "       '{}/ISIC_0024307.jpg'.format(imagepath),\n",
    "       '{}/ISIC_0024308.jpg'.format(imagepath),\n",
    "       '{}/ISIC_0024309.jpg'.format(imagepath),\n",
    "       '{}/ISIC_00243010.jpg'.format(imagepath),\n",
    "       '{}/ISIC_00243011.jpg'.format(imagepath),\n",
    "       '{}/ISIC_00243012.jpg'.format(imagepath), \n",
    "       '{}/ISIC_00243013.jpg'.format(imagepath), \n",
    "       '{}/ISIC_00243014.jpg'.format(imagepath)]\n",
    "\n",
    "for imageName in listOfImageNames:\n",
    "    image = display(Image(filename=imageName))"
   ]
  },
  {
   "cell_type": "markdown",
   "metadata": {
    "slideshow": {
     "slide_type": "fragment"
    }
   },
   "source": [
    "**Metadata**\n",
    "\n",
    "---\n",
    "\n",
    "Our metadata contains information for each lesion: \n",
    "\n",
    "1. 'dx' - the type of skin lesion \n",
    "2. 'dx-type' - how the lesion was discovered\n",
    "3. Patient gender\n",
    "4. Patient age \n",
    "5. Patient sex \n",
    "6. Where the lesion was detected\n",
    "\n",
    "--- "
   ]
  },
  {
   "cell_type": "code",
   "execution_count": 3,
   "metadata": {
    "slideshow": {
     "slide_type": "fragment"
    }
   },
   "outputs": [
    {
     "data": {
      "text/html": [
       "<div>\n",
       "<style scoped>\n",
       "    .dataframe tbody tr th:only-of-type {\n",
       "        vertical-align: middle;\n",
       "    }\n",
       "\n",
       "    .dataframe tbody tr th {\n",
       "        vertical-align: top;\n",
       "    }\n",
       "\n",
       "    .dataframe thead th {\n",
       "        text-align: right;\n",
       "    }\n",
       "</style>\n",
       "<table border=\"1\" class=\"dataframe\">\n",
       "  <thead>\n",
       "    <tr style=\"text-align: right;\">\n",
       "      <th></th>\n",
       "      <th>lesion_id</th>\n",
       "      <th>image_id</th>\n",
       "      <th>dx</th>\n",
       "      <th>dx_type</th>\n",
       "      <th>age</th>\n",
       "      <th>sex</th>\n",
       "      <th>localization</th>\n",
       "    </tr>\n",
       "  </thead>\n",
       "  <tbody>\n",
       "    <tr>\n",
       "      <th>0</th>\n",
       "      <td>HAM_0000118</td>\n",
       "      <td>ISIC_0027419</td>\n",
       "      <td>bkl</td>\n",
       "      <td>histo</td>\n",
       "      <td>80.0</td>\n",
       "      <td>male</td>\n",
       "      <td>scalp</td>\n",
       "    </tr>\n",
       "    <tr>\n",
       "      <th>1</th>\n",
       "      <td>HAM_0000118</td>\n",
       "      <td>ISIC_0025030</td>\n",
       "      <td>bkl</td>\n",
       "      <td>histo</td>\n",
       "      <td>80.0</td>\n",
       "      <td>male</td>\n",
       "      <td>scalp</td>\n",
       "    </tr>\n",
       "    <tr>\n",
       "      <th>2</th>\n",
       "      <td>HAM_0002730</td>\n",
       "      <td>ISIC_0026769</td>\n",
       "      <td>bkl</td>\n",
       "      <td>histo</td>\n",
       "      <td>80.0</td>\n",
       "      <td>male</td>\n",
       "      <td>scalp</td>\n",
       "    </tr>\n",
       "    <tr>\n",
       "      <th>3</th>\n",
       "      <td>HAM_0002730</td>\n",
       "      <td>ISIC_0025661</td>\n",
       "      <td>bkl</td>\n",
       "      <td>histo</td>\n",
       "      <td>80.0</td>\n",
       "      <td>male</td>\n",
       "      <td>scalp</td>\n",
       "    </tr>\n",
       "    <tr>\n",
       "      <th>4</th>\n",
       "      <td>HAM_0001466</td>\n",
       "      <td>ISIC_0031633</td>\n",
       "      <td>bkl</td>\n",
       "      <td>histo</td>\n",
       "      <td>75.0</td>\n",
       "      <td>male</td>\n",
       "      <td>ear</td>\n",
       "    </tr>\n",
       "  </tbody>\n",
       "</table>\n",
       "</div>"
      ],
      "text/plain": [
       "     lesion_id      image_id   dx dx_type   age   sex localization\n",
       "0  HAM_0000118  ISIC_0027419  bkl   histo  80.0  male        scalp\n",
       "1  HAM_0000118  ISIC_0025030  bkl   histo  80.0  male        scalp\n",
       "2  HAM_0002730  ISIC_0026769  bkl   histo  80.0  male        scalp\n",
       "3  HAM_0002730  ISIC_0025661  bkl   histo  80.0  male        scalp\n",
       "4  HAM_0001466  ISIC_0031633  bkl   histo  75.0  male          ear"
      ]
     },
     "execution_count": 3,
     "metadata": {},
     "output_type": "execute_result"
    }
   ],
   "source": [
    "file = '/Users/cameronsellers/code/cecyprice/skin_lesion_detection/dataset/HAM10000_metadata.csv'\n",
    "meta_data = pd.read_csv(file, ',')\n",
    "meta_data.head(5)"
   ]
  },
  {
   "cell_type": "markdown",
   "metadata": {
    "slideshow": {
     "slide_type": "fragment"
    }
   },
   "source": [
    "### Project Aims \n",
    "\n",
    "---\n",
    "\n",
    "> **To train a model to predict the type of skin-lesion, 'dx' from an image** \n",
    "\n",
    "\n",
    "\n",
    "> **To create an app that can take a skin lesion image and output a prediction** "
   ]
  },
  {
   "cell_type": "markdown",
   "metadata": {
    "slideshow": {
     "slide_type": "slide"
    }
   },
   "source": [
    "# AGENDA\n",
    "\n",
    "--- \n",
    "\n",
    "1. Data Preparation\n",
    "4. Model construction \n",
    "5. Hyperparameters \n",
    "6. Results\n",
    "7. Future perspectives"
   ]
  },
  {
   "cell_type": "markdown",
   "metadata": {
    "slideshow": {
     "slide_type": "slide"
    }
   },
   "source": [
    "# DATA PREPARATION \n",
    "---"
   ]
  },
  {
   "cell_type": "markdown",
   "metadata": {
    "slideshow": {
     "slide_type": "subslide"
    }
   },
   "source": [
    "### Data retrieval "
   ]
  },
  {
   "cell_type": "markdown",
   "metadata": {
    "slideshow": {
     "slide_type": "subslide"
    }
   },
   "source": [
    "### Data Visualisation and Cleaning "
   ]
  },
  {
   "cell_type": "markdown",
   "metadata": {},
   "source": [
    "#### Balancing \n",
    "\n",
    "There are seven types of skin lesion in the HAM10000 set: \n",
    "\n",
    "---\n",
    "\n",
    "1.   Melanocytic nevi              - 'nv'\n",
    "2.   Melanoma                      - 'mel'\n",
    "3.   Benign keratosis-like lesions - 'bkl'\n",
    "4.   Basal cell carcinoma          - 'bcc'\n",
    "5.   Actinic keratoses             - 'akiec'\n",
    "6.   Vascular lesions              - 'vasc'\n",
    "7.   Dermatofibroma                - 'df'\n",
    "\n",
    "--- "
   ]
  },
  {
   "cell_type": "markdown",
   "metadata": {
    "slideshow": {
     "slide_type": "fragment"
    }
   },
   "source": [
    "#### Missing values and Duplicates\n",
    "\n",
    "The dataset contains a few missing values and duplicates that can be easily filled or removed\n"
   ]
  },
  {
   "cell_type": "code",
   "execution_count": 4,
   "metadata": {
    "slideshow": {
     "slide_type": "fragment"
    }
   },
   "outputs": [
    {
     "name": "stdout",
     "output_type": "stream",
     "text": [
      "lesion_id        0\n",
      "image_id         0\n",
      "dx               0\n",
      "dx_type          0\n",
      "age             57\n",
      "sex              0\n",
      "localization     0\n",
      "dtype: int64\n"
     ]
    },
    {
     "data": {
      "text/plain": [
       "<matplotlib.legend.Legend at 0x11c58c2d0>"
      ]
     },
     "execution_count": 4,
     "metadata": {},
     "output_type": "execute_result"
    },
    {
     "data": {
      "image/png": "[encoded data removed]",
      "text/plain": [
       "<Figure size 432x288 with 1 Axes>"
      ]
     },
     "metadata": {
      "needs_background": "light"
     },
     "output_type": "display_data"
    }
   ],
   "source": [
    "repetition_counts = meta_data.groupby('lesion_id').agg({'image_id': 'count', 'dx_type': 'count', 'age': 'mean', 'sex': 'count', 'localization': 'count', 'dx': 'first', }).reset_index()\n",
    "repetition_counts.columns = ['lesion_id', 'image_count', 'count_dx_type', 'mean_age', 'count_sex', 'count_location', 'dx']\n",
    "\n",
    "print(meta_data.isnull().sum())\n",
    "chart = repetition_counts[['image_count', 'dx', 'lesion_id']]\n",
    "chart.head()\n",
    "sns.countplot(x=\"image_count\", hue=\"dx\", data=chart)\n",
    "plt.legend(loc='upper right')"
   ]
  },
  {
   "cell_type": "code",
   "execution_count": 5,
   "metadata": {
    "slideshow": {
     "slide_type": "fragment"
    }
   },
   "outputs": [],
   "source": [
    "## fill 67 missing age values with mean \n",
    "meta_data['age'].fillna((meta_data['age'].mean()), inplace = True)\n",
    "\n",
    "## drop duplicates as duplicates evenly distributed across lesion types \n",
    "meta_data = meta_data.drop_duplicates(subset=['lesion_id'], keep = 'first')"
   ]
  },
  {
   "cell_type": "markdown",
   "metadata": {},
   "source": [
    "#### Balancing \n",
    "---\n",
    "\n",
    "We can see representation of each lesion is **unbalanced** \n",
    "\n",
    "> 'nv' lesions are overrepresented \n",
    "\n",
    "\n",
    "> 'vasc' and 'df' lesions are underrepresented "
   ]
  },
  {
   "cell_type": "code",
   "execution_count": 6,
   "metadata": {},
   "outputs": [
    {
     "data": {
      "text/plain": [
       "nv       5403\n",
       "bkl       727\n",
       "mel       614\n",
       "bcc       327\n",
       "akiec     228\n",
       "vasc       98\n",
       "df         73\n",
       "Name: dx, dtype: int64"
      ]
     },
     "execution_count": 6,
     "metadata": {},
     "output_type": "execute_result"
    },
    {
     "data": {
      "image/png": "[encoded data removed]",
      "text/plain": [
       "<Figure size 432x288 with 1 Axes>"
      ]
     },
     "metadata": {
      "needs_background": "light"
     },
     "output_type": "display_data"
    }
   ],
   "source": [
    "sns.countplot(meta_data['dx'])\n",
    "meta_data['dx'].value_counts()"
   ]
  },
  {
   "cell_type": "markdown",
   "metadata": {},
   "source": [
    "We need to balance by **undersampling** nv, then **augment** the whole dataset to improve 'vasc' and 'df' representation. "
   ]
  },
  {
   "cell_type": "code",
   "execution_count": 7,
   "metadata": {
    "slideshow": {
     "slide_type": "fragment"
    }
   },
   "outputs": [],
   "source": [
    "def balance(data, under_sample_size):\n",
    "        ## isolate nv rows\n",
    "        data_nv = data[data['dx'] == 'nv']\n",
    "        # define scaling parameters \n",
    "        sample_size = under_sample_size\n",
    "        scaling = under_sample_size / data_nv.shape[0] \n",
    "        # stratified sampling \n",
    "        rus = RandomUnderSampler(sampling_strategy={'lower extremity' : int(1224*scaling),\n",
    "                                                    'trunk' : int(1153*scaling), \n",
    "                                                    'back' : int(1058*scaling),\n",
    "                                                    'abdomen' : int(719*scaling), \n",
    "                                                    'upper extremity' : int(504*scaling) ,\n",
    "                                                    'foot' : int(209*scaling), \n",
    "                                                    'unknown' : int(175*scaling),\n",
    "                                                    'chest' : int(112*scaling),\n",
    "                                                    'face' : int(61*scaling),\n",
    "                                                    'neck' : int(60*scaling), \n",
    "                                                    'genital' : int(43*scaling), \n",
    "                                                    'hand' : int(39*scaling), \n",
    "                                                    'scalp' : int(24*scaling), \n",
    "                                                    'ear' : int(19*scaling),\n",
    "                                                    'acral' : int(3*scaling)+1\n",
    "                                                   }, \n",
    "                                   random_state=None,\n",
    "                                   replacement=False,\n",
    "                                )\n",
    "        ## fit strtaified sampling model \n",
    "        n_x, n_y = rus.fit_resample(data_nv, data_nv['localization'])\n",
    "        ## delete nv rows from original dataset\n",
    "        no_nv_data = data[data.dx != 'nv']\n",
    "        data = pd.concat([n_x, no_nv_data], axis=0)\n",
    "        return data\n",
    "    \n",
    "meta_data = balance(meta_data, 1000)"
   ]
  },
  {
   "cell_type": "code",
   "execution_count": 8,
   "metadata": {
    "slideshow": {
     "slide_type": "fragment"
    }
   },
   "outputs": [],
   "source": [
    "def data_augmentation(df, image_size = 'resized'):\n",
    "    print(df.shape)\n",
    "    df = df.reset_index(drop=True)\n",
    "    ## Define random image modifications\n",
    "    aug = ImageDataGenerator(\n",
    "    rotation_range=30,\n",
    "    zoom_range=0.15,\n",
    "    width_shift_range=0.2,\n",
    "    height_shift_range=0.2,\n",
    "    shear_range=0.15,\n",
    "    horizontal_flip=True,\n",
    "    fill_mode=\"nearest\")\n",
    "\n",
    "    if image_size == 'resized':\n",
    "        target_images = 'images_resized'\n",
    "        input_size = (75,100,3)\n",
    "        df = df.drop(['images'], axis =1)\n",
    "        new_df = df.copy()\n",
    "        new_df = new_df.drop(['images_resized'], axis=1)\n",
    "\n",
    "    elif image_size == 'full_size':\n",
    "        target_images = 'images'\n",
    "        input_size = (450,600,3)\n",
    "        df = df.drop(['images_resized'], axis =1)\n",
    "        new_df = df.copy()\n",
    "        new_df = new_df.drop(['images'], axis=1)\n",
    "\n",
    "    ## Create np.array of augmented images from original images dataframe. Reshape to feed into dataGen\n",
    "    images_array = np.array([i.reshape(input_size) for i in df[target_images].values])\n",
    "    #construct the actual Python generator, iterate over imagegenerator object\n",
    "    dataGen = aug.flow(images_array, batch_size = images_array.shape[0])\n",
    "    for i in dataGen:\n",
    "        break\n",
    "    ## flatten i before concatenating it into new dataframe copy\n",
    "    i = i.reshape(len(df), input_size[0]*input_size[1]*input_size[2])\n",
    "    ## turn i from array into list so it can be converted into pd\n",
    "    im_list = []\n",
    "    for im in i:\n",
    "        im_list.append(im)\n",
    "    # convert i into the pandas i_df\n",
    "    i_df = pd.DataFrame({target_images: im_list})\n",
    "    ## concatenate new_df numpy array and new augmented image array\n",
    "    com_new_df = pd.concat((new_df, i_df), axis = 1)\n",
    "    ## vertically concatenate new dataframes\n",
    "    frames = [df, com_new_df]\n",
    "    df = pd.concat(frames)\n",
    "    df.reset_index(drop=True, inplace=True)\n",
    "    print(df.shape)\n",
    "    return df"
   ]
  },
  {
   "cell_type": "code",
   "execution_count": 10,
   "metadata": {
    "slideshow": {
     "slide_type": "skip"
    }
   },
   "outputs": [],
   "source": [
    "meta_data_copy = meta_data.copy()\n",
    "frames = [meta_data_copy, meta_data]\n",
    "meta_data = pd.concat(frames)"
   ]
  },
  {
   "cell_type": "markdown",
   "metadata": {},
   "source": [
    "Samples are now:\n",
    "\n",
    "- **more balanced** \n",
    "\n",
    "- **better represented**"
   ]
  },
  {
   "cell_type": "code",
   "execution_count": 11,
   "metadata": {
    "slideshow": {
     "slide_type": "fragment"
    }
   },
   "outputs": [
    {
     "data": {
      "text/plain": [
       "nv       1988\n",
       "bkl      1454\n",
       "mel      1228\n",
       "bcc       654\n",
       "akiec     456\n",
       "vasc      196\n",
       "df        146\n",
       "Name: dx, dtype: int64"
      ]
     },
     "execution_count": 11,
     "metadata": {},
     "output_type": "execute_result"
    },
    {
     "data": {
      "image/png": "[encoded data removed]",
      "text/plain": [
       "<Figure size 432x288 with 1 Axes>"
      ]
     },
     "metadata": {
      "needs_background": "light"
     },
     "output_type": "display_data"
    }
   ],
   "source": [
    "sns.countplot(meta_data['dx'])\n",
    "meta_data['dx'].value_counts()"
   ]
  },
  {
   "cell_type": "markdown",
   "metadata": {
    "slideshow": {
     "slide_type": "slide"
    }
   },
   "source": [
    "# MODEL CONSTRUCTION\n",
    "--- "
   ]
  },
  {
   "cell_type": "markdown",
   "metadata": {
    "slideshow": {
     "slide_type": "subslide"
    }
   },
   "source": [
    "### Baseline"
   ]
  },
  {
   "cell_type": "code",
   "execution_count": null,
   "metadata": {},
   "outputs": [],
   "source": []
  },
  {
   "cell_type": "markdown",
   "metadata": {
    "slideshow": {
     "slide_type": "subslide"
    }
   },
   "source": [
    "### Vgg16 "
   ]
  },
  {
   "cell_type": "markdown",
   "metadata": {},
   "source": []
  },
  {
   "cell_type": "markdown",
   "metadata": {
    "slideshow": {
     "slide_type": "subslide"
    }
   },
   "source": [
    "### Resnet "
   ]
  },
  {
   "cell_type": "markdown",
   "metadata": {
    "slideshow": {
     "slide_type": "subslide"
    }
   },
   "source": [
    "### DenseNet "
   ]
  },
  {
   "cell_type": "markdown",
   "metadata": {
    "slideshow": {
     "slide_type": "slide"
    }
   },
   "source": [
    "# HYPERPARAMETERS\n",
    "---"
   ]
  },
  {
   "cell_type": "markdown",
   "metadata": {
    "slideshow": {
     "slide_type": "slide"
    }
   },
   "source": [
    "# RESULTS\n",
    "---\n"
   ]
  },
  {
   "cell_type": "markdown",
   "metadata": {
    "slideshow": {
     "slide_type": "slide"
    }
   },
   "source": [
    "# FUTURE WORK\n",
    "---"
   ]
  },
  {
   "cell_type": "markdown",
   "metadata": {
    "slideshow": {
     "slide_type": "skip"
    }
   },
   "source": [
    "## to look at presentation \n",
    "\n",
    "**in terminal**\n",
    " - cd to notebooks in skin_lesion_detection\n",
    " - type \"jupyter nbconvert Presentation.ipynb --to slides --post serve\" "
   ]
  },
  {
   "cell_type": "code",
   "execution_count": null,
   "metadata": {},
   "outputs": [],
   "source": []
  }
 ],
 "metadata": {
  "celltoolbar": "Slideshow",
  "kernelspec": {
   "display_name": "Python 3",
   "language": "python",
   "name": "python3"
  },
  "language_info": {
   "codemirror_mode": {
    "name": "ipython",
    "version": 3
   },
   "file_extension": ".py",
   "mimetype": "text/x-python",
   "name": "python",
   "nbconvert_exporter": "python",
   "pygments_lexer": "ipython3",
   "version": "3.7.7"
  }
 },
 "nbformat": 4,
 "nbformat_minor": 4
}
