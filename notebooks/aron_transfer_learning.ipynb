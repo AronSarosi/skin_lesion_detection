{
 "cells": [
  {
   "cell_type": "markdown",
   "metadata": {},
   "source": [
    "# Experiment with transfer learning models b4 uploading to GCP"
   ]
  },
  {
   "cell_type": "code",
   "execution_count": 1,
   "metadata": {},
   "outputs": [],
   "source": [
    "import pandas as pd\n",
    "import numpy as np\n",
    "from tensorflow.keras.preprocessing.image import ImageDataGenerator\n",
    "import os\n",
    "from glob import glob\n",
    "import matplotlib.pyplot as plt\n",
    "import sklearn.neighbors\n",
    "from imblearn.under_sampling import RandomUnderSampler\n",
    "import imageio\n",
    "from PIL import Image"
   ]
  },
  {
   "cell_type": "code",
   "execution_count": 2,
   "metadata": {},
   "outputs": [],
   "source": [
    "%load_ext autoreload\n",
    "%autoreload 2"
   ]
  },
  {
   "cell_type": "code",
   "execution_count": 5,
   "metadata": {},
   "outputs": [],
   "source": [
    "from skin_lesion_detection.data import get_data, clean_df, balance_nv, data_augmentation\n",
    "from skin_lesion_detection.encoders import ImageScaler\n",
    "# from skin_lesion_detection.trainer import Trainer\n",
    "from skin_lesion_detection.transfer_learning_models import TLModels"
   ]
  },
  {
   "cell_type": "markdown",
   "metadata": {},
   "source": [
    "## Get and Clean Data"
   ]
  },
  {
   "cell_type": "code",
   "execution_count": 6,
   "metadata": {},
   "outputs": [],
   "source": [
    "df = get_data(50)"
   ]
  },
  {
   "cell_type": "code",
   "execution_count": 7,
   "metadata": {},
   "outputs": [
    {
     "data": {
      "text/plain": [
       "(10015, 12)"
      ]
     },
     "execution_count": 7,
     "metadata": {},
     "output_type": "execute_result"
    }
   ],
   "source": [
    "df.shape"
   ]
  },
  {
   "cell_type": "code",
   "execution_count": 8,
   "metadata": {},
   "outputs": [
    {
     "name": "stderr",
     "output_type": "stream",
     "text": [
      "/Users/AronSarosi/.pyenv/versions/3.7.7/envs/lesion_detection/lib/python3.7/site-packages/pandas/core/generic.py:5159: SettingWithCopyWarning: \n",
      "A value is trying to be set on a copy of a slice from a DataFrame.\n",
      "Try using .loc[row_indexer,col_indexer] = value instead\n",
      "\n",
      "See the caveats in the documentation: https://pandas.pydata.org/pandas-docs/stable/user_guide/indexing.html#returning-a-view-versus-a-copy\n",
      "  self[name] = value\n"
     ]
    }
   ],
   "source": [
    "df = clean_df(df)"
   ]
  },
  {
   "cell_type": "code",
   "execution_count": 9,
   "metadata": {},
   "outputs": [
    {
     "data": {
      "text/plain": [
       "(7470, 12)"
      ]
     },
     "execution_count": 9,
     "metadata": {},
     "output_type": "execute_result"
    }
   ],
   "source": [
    "df.shape"
   ]
  },
  {
   "cell_type": "code",
   "execution_count": 10,
   "metadata": {},
   "outputs": [],
   "source": [
    "df = balance_nv(df, 5)"
   ]
  },
  {
   "cell_type": "code",
   "execution_count": 11,
   "metadata": {},
   "outputs": [
    {
     "data": {
      "text/plain": [
       "(2070, 12)"
      ]
     },
     "execution_count": 11,
     "metadata": {},
     "output_type": "execute_result"
    }
   ],
   "source": [
    "df.shape"
   ]
  },
  {
   "cell_type": "code",
   "execution_count": 12,
   "metadata": {},
   "outputs": [
    {
     "name": "stdout",
     "output_type": "stream",
     "text": [
      "images_array.shape\n",
      "        lesion_id      image_id     dx    dx_type   age     sex  \\\n",
      "0     HAM_0000897  ISIC_0029306     nv      histo  35.0  female   \n",
      "1     HAM_0002088  ISIC_0024377     nv      histo  45.0  female   \n",
      "2     HAM_0001568  ISIC_0030614     nv  follow_up  50.0    male   \n",
      "3     HAM_0000118  ISIC_0027419    bkl      histo  80.0    male   \n",
      "4     HAM_0002730  ISIC_0026769    bkl      histo  80.0    male   \n",
      "...           ...           ...    ...        ...   ...     ...   \n",
      "2065  HAM_0000193  ISIC_0030877  akiec      histo  60.0  female   \n",
      "2066  HAM_0000020  ISIC_0031922  akiec      histo  60.0  female   \n",
      "2067  HAM_0005579  ISIC_0029309  akiec      histo  80.0    male   \n",
      "2068  HAM_0001576  ISIC_0033705  akiec      histo  60.0    male   \n",
      "2069  HAM_0002867  ISIC_0033084  akiec      histo  40.0    male   \n",
      "\n",
      "         localization                                               path  \\\n",
      "0               acral  ../dataset/HAM10000_images_part_2/ISIC_0029306...   \n",
      "1     lower extremity  ../dataset/HAM10000_images_part_1/ISIC_0024377...   \n",
      "2               trunk  ../dataset/HAM10000_images_part_2/ISIC_0030614...   \n",
      "3               scalp  ../dataset/HAM10000_images_part_1/ISIC_0027419...   \n",
      "4               scalp  ../dataset/HAM10000_images_part_1/ISIC_0026769...   \n",
      "...               ...                                                ...   \n",
      "2065             face  ../dataset/HAM10000_images_part_2/ISIC_0030877...   \n",
      "2066             face  ../dataset/HAM10000_images_part_2/ISIC_0031922...   \n",
      "2067             face  ../dataset/HAM10000_images_part_2/ISIC_0029309...   \n",
      "2068             face  ../dataset/HAM10000_images_part_2/ISIC_0033705...   \n",
      "2069          abdomen  ../dataset/HAM10000_images_part_2/ISIC_0033084...   \n",
      "\n",
      "                           cell_type  cell_type_idx  \\\n",
      "0                   Melanocytic nevi              4   \n",
      "1                   Melanocytic nevi              4   \n",
      "2                   Melanocytic nevi              4   \n",
      "3     Benign keratosis-like lesions               2   \n",
      "4     Benign keratosis-like lesions               2   \n",
      "...                              ...            ...   \n",
      "2065               Actinic keratoses              0   \n",
      "2066               Actinic keratoses              0   \n",
      "2067               Actinic keratoses              0   \n",
      "2068               Actinic keratoses              0   \n",
      "2069               Actinic keratoses              0   \n",
      "\n",
      "                                         images_resized  \n",
      "0     [218.0, 187.0, 185.0, 218.0, 187.0, 185.0, 218...  \n",
      "1     [176.0, 138.09296, 141.0, 175.429, 136.85802, ...  \n",
      "2     [196.50217, 171.33623, 167.33623, 200.68712, 1...  \n",
      "3     [146.39407, 127.30296, 139.39407, 145.54297, 1...  \n",
      "4     [176.0, 143.17867, 156.82133, 176.0, 143.3014,...  \n",
      "...                                                 ...  \n",
      "2065  [216.37645, 190.25871, 215.50581, 217.25111, 1...  \n",
      "2066  [200.241, 167.11983, 171.13625, 202.187, 168.9...  \n",
      "2067  [146.44826, 119.03063, 135.59769, 148.11661, 1...  \n",
      "2068  [172.0, 131.07062, 133.07062, 172.76964, 129.9...  \n",
      "2069  [159.21747, 113.362434, 121.39868, 160.44983, ...  \n",
      "\n",
      "[2070 rows x 11 columns]\n"
     ]
    }
   ],
   "source": [
    "df = data_augmentation(df)"
   ]
  },
  {
   "cell_type": "code",
   "execution_count": 13,
   "metadata": {},
   "outputs": [
    {
     "data": {
      "text/plain": [
       "(4140, 11)"
      ]
     },
     "execution_count": 13,
     "metadata": {},
     "output_type": "execute_result"
    }
   ],
   "source": [
    "df.shape"
   ]
  },
  {
   "cell_type": "code",
   "execution_count": 14,
   "metadata": {
    "scrolled": true
   },
   "outputs": [
    {
     "data": {
      "text/html": [
       "<div>\n",
       "<style scoped>\n",
       "    .dataframe tbody tr th:only-of-type {\n",
       "        vertical-align: middle;\n",
       "    }\n",
       "\n",
       "    .dataframe tbody tr th {\n",
       "        vertical-align: top;\n",
       "    }\n",
       "\n",
       "    .dataframe thead th {\n",
       "        text-align: right;\n",
       "    }\n",
       "</style>\n",
       "<table border=\"1\" class=\"dataframe\">\n",
       "  <thead>\n",
       "    <tr style=\"text-align: right;\">\n",
       "      <th></th>\n",
       "      <th>lesion_id</th>\n",
       "      <th>image_id</th>\n",
       "      <th>dx</th>\n",
       "      <th>dx_type</th>\n",
       "      <th>age</th>\n",
       "      <th>sex</th>\n",
       "      <th>localization</th>\n",
       "      <th>path</th>\n",
       "      <th>cell_type</th>\n",
       "      <th>cell_type_idx</th>\n",
       "      <th>images_resized</th>\n",
       "    </tr>\n",
       "  </thead>\n",
       "  <tbody>\n",
       "    <tr>\n",
       "      <th>4130</th>\n",
       "      <td>HAM_0006024</td>\n",
       "      <td>ISIC_0029830</td>\n",
       "      <td>akiec</td>\n",
       "      <td>histo</td>\n",
       "      <td>60.0</td>\n",
       "      <td>male</td>\n",
       "      <td>face</td>\n",
       "      <td>../dataset/HAM10000_images_part_2/ISIC_0029830...</td>\n",
       "      <td>Actinic keratoses</td>\n",
       "      <td>0</td>\n",
       "      <td>[174.8048, 144.8048, 173.0, 174.23602, 144.472...</td>\n",
       "    </tr>\n",
       "    <tr>\n",
       "      <th>4131</th>\n",
       "      <td>HAM_0001036</td>\n",
       "      <td>ISIC_0027588</td>\n",
       "      <td>akiec</td>\n",
       "      <td>histo</td>\n",
       "      <td>50.0</td>\n",
       "      <td>female</td>\n",
       "      <td>face</td>\n",
       "      <td>../dataset/HAM10000_images_part_1/ISIC_0027588...</td>\n",
       "      <td>Actinic keratoses</td>\n",
       "      <td>0</td>\n",
       "      <td>[86.0, 58.0, 52.0, 87.74881, 60.24847, 54.4983...</td>\n",
       "    </tr>\n",
       "    <tr>\n",
       "      <th>4132</th>\n",
       "      <td>HAM_0004462</td>\n",
       "      <td>ISIC_0027334</td>\n",
       "      <td>akiec</td>\n",
       "      <td>histo</td>\n",
       "      <td>45.0</td>\n",
       "      <td>male</td>\n",
       "      <td>trunk</td>\n",
       "      <td>../dataset/HAM10000_images_part_1/ISIC_0027334...</td>\n",
       "      <td>Actinic keratoses</td>\n",
       "      <td>0</td>\n",
       "      <td>[134.0, 93.0, 90.0, 134.0, 93.0, 90.0, 134.0, ...</td>\n",
       "    </tr>\n",
       "    <tr>\n",
       "      <th>4133</th>\n",
       "      <td>HAM_0001152</td>\n",
       "      <td>ISIC_0030133</td>\n",
       "      <td>akiec</td>\n",
       "      <td>histo</td>\n",
       "      <td>65.0</td>\n",
       "      <td>male</td>\n",
       "      <td>face</td>\n",
       "      <td>../dataset/HAM10000_images_part_2/ISIC_0030133...</td>\n",
       "      <td>Actinic keratoses</td>\n",
       "      <td>0</td>\n",
       "      <td>[218.70392, 163.18431, 128.18431, 218.31027, 1...</td>\n",
       "    </tr>\n",
       "    <tr>\n",
       "      <th>4134</th>\n",
       "      <td>HAM_0004282</td>\n",
       "      <td>ISIC_0033811</td>\n",
       "      <td>akiec</td>\n",
       "      <td>histo</td>\n",
       "      <td>65.0</td>\n",
       "      <td>female</td>\n",
       "      <td>face</td>\n",
       "      <td>../dataset/HAM10000_images_part_2/ISIC_0033811...</td>\n",
       "      <td>Actinic keratoses</td>\n",
       "      <td>0</td>\n",
       "      <td>[168.31349, 142.58043, 149.53485, 172.6102, 14...</td>\n",
       "    </tr>\n",
       "    <tr>\n",
       "      <th>4135</th>\n",
       "      <td>HAM_0000193</td>\n",
       "      <td>ISIC_0030877</td>\n",
       "      <td>akiec</td>\n",
       "      <td>histo</td>\n",
       "      <td>60.0</td>\n",
       "      <td>female</td>\n",
       "      <td>face</td>\n",
       "      <td>../dataset/HAM10000_images_part_2/ISIC_0030877...</td>\n",
       "      <td>Actinic keratoses</td>\n",
       "      <td>0</td>\n",
       "      <td>[216.37645, 190.25871, 215.50581, 217.25111, 1...</td>\n",
       "    </tr>\n",
       "    <tr>\n",
       "      <th>4136</th>\n",
       "      <td>HAM_0000020</td>\n",
       "      <td>ISIC_0031922</td>\n",
       "      <td>akiec</td>\n",
       "      <td>histo</td>\n",
       "      <td>60.0</td>\n",
       "      <td>female</td>\n",
       "      <td>face</td>\n",
       "      <td>../dataset/HAM10000_images_part_2/ISIC_0031922...</td>\n",
       "      <td>Actinic keratoses</td>\n",
       "      <td>0</td>\n",
       "      <td>[200.241, 167.11983, 171.13625, 202.187, 168.9...</td>\n",
       "    </tr>\n",
       "    <tr>\n",
       "      <th>4137</th>\n",
       "      <td>HAM_0005579</td>\n",
       "      <td>ISIC_0029309</td>\n",
       "      <td>akiec</td>\n",
       "      <td>histo</td>\n",
       "      <td>80.0</td>\n",
       "      <td>male</td>\n",
       "      <td>face</td>\n",
       "      <td>../dataset/HAM10000_images_part_2/ISIC_0029309...</td>\n",
       "      <td>Actinic keratoses</td>\n",
       "      <td>0</td>\n",
       "      <td>[146.44826, 119.03063, 135.59769, 148.11661, 1...</td>\n",
       "    </tr>\n",
       "    <tr>\n",
       "      <th>4138</th>\n",
       "      <td>HAM_0001576</td>\n",
       "      <td>ISIC_0033705</td>\n",
       "      <td>akiec</td>\n",
       "      <td>histo</td>\n",
       "      <td>60.0</td>\n",
       "      <td>male</td>\n",
       "      <td>face</td>\n",
       "      <td>../dataset/HAM10000_images_part_2/ISIC_0033705...</td>\n",
       "      <td>Actinic keratoses</td>\n",
       "      <td>0</td>\n",
       "      <td>[172.0, 131.07062, 133.07062, 172.76964, 129.9...</td>\n",
       "    </tr>\n",
       "    <tr>\n",
       "      <th>4139</th>\n",
       "      <td>HAM_0002867</td>\n",
       "      <td>ISIC_0033084</td>\n",
       "      <td>akiec</td>\n",
       "      <td>histo</td>\n",
       "      <td>40.0</td>\n",
       "      <td>male</td>\n",
       "      <td>abdomen</td>\n",
       "      <td>../dataset/HAM10000_images_part_2/ISIC_0033084...</td>\n",
       "      <td>Actinic keratoses</td>\n",
       "      <td>0</td>\n",
       "      <td>[159.21747, 113.362434, 121.39868, 160.44983, ...</td>\n",
       "    </tr>\n",
       "  </tbody>\n",
       "</table>\n",
       "</div>"
      ],
      "text/plain": [
       "        lesion_id      image_id     dx dx_type   age     sex localization  \\\n",
       "4130  HAM_0006024  ISIC_0029830  akiec   histo  60.0    male         face   \n",
       "4131  HAM_0001036  ISIC_0027588  akiec   histo  50.0  female         face   \n",
       "4132  HAM_0004462  ISIC_0027334  akiec   histo  45.0    male        trunk   \n",
       "4133  HAM_0001152  ISIC_0030133  akiec   histo  65.0    male         face   \n",
       "4134  HAM_0004282  ISIC_0033811  akiec   histo  65.0  female         face   \n",
       "4135  HAM_0000193  ISIC_0030877  akiec   histo  60.0  female         face   \n",
       "4136  HAM_0000020  ISIC_0031922  akiec   histo  60.0  female         face   \n",
       "4137  HAM_0005579  ISIC_0029309  akiec   histo  80.0    male         face   \n",
       "4138  HAM_0001576  ISIC_0033705  akiec   histo  60.0    male         face   \n",
       "4139  HAM_0002867  ISIC_0033084  akiec   histo  40.0    male      abdomen   \n",
       "\n",
       "                                                   path          cell_type  \\\n",
       "4130  ../dataset/HAM10000_images_part_2/ISIC_0029830...  Actinic keratoses   \n",
       "4131  ../dataset/HAM10000_images_part_1/ISIC_0027588...  Actinic keratoses   \n",
       "4132  ../dataset/HAM10000_images_part_1/ISIC_0027334...  Actinic keratoses   \n",
       "4133  ../dataset/HAM10000_images_part_2/ISIC_0030133...  Actinic keratoses   \n",
       "4134  ../dataset/HAM10000_images_part_2/ISIC_0033811...  Actinic keratoses   \n",
       "4135  ../dataset/HAM10000_images_part_2/ISIC_0030877...  Actinic keratoses   \n",
       "4136  ../dataset/HAM10000_images_part_2/ISIC_0031922...  Actinic keratoses   \n",
       "4137  ../dataset/HAM10000_images_part_2/ISIC_0029309...  Actinic keratoses   \n",
       "4138  ../dataset/HAM10000_images_part_2/ISIC_0033705...  Actinic keratoses   \n",
       "4139  ../dataset/HAM10000_images_part_2/ISIC_0033084...  Actinic keratoses   \n",
       "\n",
       "      cell_type_idx                                     images_resized  \n",
       "4130              0  [174.8048, 144.8048, 173.0, 174.23602, 144.472...  \n",
       "4131              0  [86.0, 58.0, 52.0, 87.74881, 60.24847, 54.4983...  \n",
       "4132              0  [134.0, 93.0, 90.0, 134.0, 93.0, 90.0, 134.0, ...  \n",
       "4133              0  [218.70392, 163.18431, 128.18431, 218.31027, 1...  \n",
       "4134              0  [168.31349, 142.58043, 149.53485, 172.6102, 14...  \n",
       "4135              0  [216.37645, 190.25871, 215.50581, 217.25111, 1...  \n",
       "4136              0  [200.241, 167.11983, 171.13625, 202.187, 168.9...  \n",
       "4137              0  [146.44826, 119.03063, 135.59769, 148.11661, 1...  \n",
       "4138              0  [172.0, 131.07062, 133.07062, 172.76964, 129.9...  \n",
       "4139              0  [159.21747, 113.362434, 121.39868, 160.44983, ...  "
      ]
     },
     "execution_count": 14,
     "metadata": {},
     "output_type": "execute_result"
    }
   ],
   "source": [
    "df.tail(10)"
   ]
  },
  {
   "cell_type": "markdown",
   "metadata": {},
   "source": [
    "## Build CNN models"
   ]
  },
  {
   "cell_type": "code",
   "execution_count": null,
   "metadata": {},
   "outputs": [],
   "source": []
  }
 ],
 "metadata": {
  "kernelspec": {
   "display_name": "Python 3",
   "language": "python",
   "name": "python3"
  },
  "language_info": {
   "codemirror_mode": {
    "name": "ipython",
    "version": 3
   },
   "file_extension": ".py",
   "mimetype": "text/x-python",
   "name": "python",
   "nbconvert_exporter": "python",
   "pygments_lexer": "ipython3",
   "version": "3.7.7"
  },
  "toc": {
   "base_numbering": 1,
   "nav_menu": {},
   "number_sections": true,
   "sideBar": true,
   "skip_h1_title": false,
   "title_cell": "Table of Contents",
   "title_sidebar": "Contents",
   "toc_cell": false,
   "toc_position": {},
   "toc_section_display": true,
   "toc_window_display": false
  }
 },
 "nbformat": 4,
 "nbformat_minor": 4
}
